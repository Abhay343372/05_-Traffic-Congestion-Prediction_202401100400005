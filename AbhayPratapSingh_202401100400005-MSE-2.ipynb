{
  "nbformat": 4,
  "nbformat_minor": 0,
  "metadata": {
    "colab": {
      "provenance": []
    },
    "kernelspec": {
      "name": "python3",
      "display_name": "Python 3"
    },
    "language_info": {
      "name": "python"
    }
  },
  "cells": [
    {
      "cell_type": "code",
      "source": [
        "import pandas as pd\n",
        "import seaborn as sns\n",
        "import matplotlib.pyplot as plt\n",
        "from sklearn.preprocessing import LabelEncoder, StandardScaler\n",
        "from sklearn.model_selection import train_test_split\n",
        "from sklearn.metrics import confusion_matrix, classification_report, accuracy_score\n",
        "from sklearn.ensemble import RandomForestClassifier\n",
        "from sklearn.cluster import KMeans"
      ],
      "metadata": {
        "id": "mkO5PNMFulGz"
      },
      "execution_count": 23,
      "outputs": []
    },
    {
      "cell_type": "code",
      "source": [
        "df = pd.read_csv('/content/traffic_congestion.csv')\n",
        "df.columns = df.columns.str.strip()"
      ],
      "metadata": {
        "id": "HqZjYtMwuoof"
      },
      "execution_count": 24,
      "outputs": []
    },
    {
      "cell_type": "code",
      "source": [
        "# === Encode Categorical Columns ===\n",
        "label_encoders = {}\n",
        "for col in df.select_dtypes(include='object').columns:\n",
        "    le = LabelEncoder()\n",
        "    df[col] = le.fit_transform(df[col])\n",
        "    label_encoders[col] = le"
      ],
      "metadata": {
        "id": "hRwTQ_Y5uxWb"
      },
      "execution_count": 25,
      "outputs": []
    },
    {
      "cell_type": "code",
      "source": [
        "X = df.drop('congestion_level', axis=1)\n",
        "y = df['congestion_level']"
      ],
      "metadata": {
        "id": "r8K80tCNu1jt"
      },
      "execution_count": 26,
      "outputs": []
    },
    {
      "cell_type": "code",
      "source": [
        "X_train, X_test, y_train, y_test = train_test_split(X, y, test_size=0.2, random_state=42)"
      ],
      "metadata": {
        "id": "PyUptYzGxClZ"
      },
      "execution_count": 27,
      "outputs": []
    },
    {
      "cell_type": "code",
      "source": [
        "model = RandomForestClassifier(random_state=42)\n",
        "model.fit(X_train, y_train)\n",
        "y_pred = model.predict(X_test)"
      ],
      "metadata": {
        "id": "sZXcVJNNxGpg"
      },
      "execution_count": 28,
      "outputs": []
    },
    {
      "cell_type": "code",
      "source": [
        "print(\"Accuracy:\", accuracy_score(y_test, y_pred))\n",
        "print(\"\\nClassification Report:\\n\", classification_report(y_test, y_pred, target_names=label_encoders['congestion_level'].classes_))\n"
      ],
      "metadata": {
        "colab": {
          "base_uri": "https://localhost:8080/"
        },
        "id": "BMkVGGlvxKlU",
        "outputId": "42bb744d-27ed-4f1c-fdf1-f79db1aade47"
      },
      "execution_count": 29,
      "outputs": [
        {
          "output_type": "stream",
          "name": "stdout",
          "text": [
            "Accuracy: 0.35\n",
            "\n",
            "Classification Report:\n",
            "               precision    recall  f1-score   support\n",
            "\n",
            "        high       0.00      0.00      0.00         4\n",
            "         low       0.38      0.43      0.40         7\n",
            "      medium       0.50      0.44      0.47         9\n",
            "\n",
            "    accuracy                           0.35        20\n",
            "   macro avg       0.29      0.29      0.29        20\n",
            "weighted avg       0.36      0.35      0.35        20\n",
            "\n"
          ]
        }
      ]
    },
    {
      "cell_type": "code",
      "source": [
        "cm = confusion_matrix(y_test, y_pred)\n",
        "plt.figure(figsize=(6, 4))\n",
        "sns.heatmap(cm, annot=True, fmt='d', cmap='YlOrRd',\n",
        "            xticklabels=label_encoders['congestion_level'].classes_,\n",
        "            yticklabels=label_encoders['congestion_level'].classes_)\n",
        "plt.title(\"Confusion Matrix Heatmap\")\n",
        "plt.xlabel(\"Predicted\")\n",
        "plt.ylabel(\"Actual\")\n",
        "plt.tight_layout()\n",
        "plt.show()"
      ],
      "metadata": {
        "colab": {
          "base_uri": "https://localhost:8080/",
          "height": 407
        },
        "id": "ZJgAtnIDxOSA",
        "outputId": "237add97-2b3e-4893-8b6a-c1db5e4326ac"
      },
      "execution_count": 30,
      "outputs": [
        {
          "output_type": "display_data",
          "data": {
            "text/plain": [
              "<Figure size 600x400 with 2 Axes>"
            ],
            "image/png": "[encoded data removed]"
          },
          "metadata": {}
        }
      ]
    },
    {
      "cell_type": "code",
      "source": [
        "features_for_clustering = ['vehicle_count', 'avg_speed']\n",
        "features_for_clustering = [col for col in features_for_clustering if col in df.columns]\n"
      ],
      "metadata": {
        "id": "NnTL_Q-AxSjU"
      },
      "execution_count": 31,
      "outputs": []
    },
    {
      "cell_type": "code",
      "source": [
        "if len(features_for_clustering) == 2:\n",
        "    scaler = StandardScaler()\n",
        "    X_scaled = scaler.fit_transform(df[features_for_clustering])\n",
        "\n",
        "    # Apply KMeans\n",
        "    kmeans = KMeans(n_clusters=3, random_state=42)\n",
        "    df['cluster'] = kmeans.fit_predict(X_scaled)\n",
        "\n",
        "    # Scatter plot for clusters\n",
        "    plt.figure(figsize=(6, 4))\n",
        "    sns.scatterplot(x=df['vehicle_count'], y=df['avg_speed'], hue=df['cluster'], palette='viridis')\n",
        "    plt.title(\"Traffic Pattern Clustering\")\n",
        "    plt.xlabel(\"Vehicle Count\")\n",
        "    plt.ylabel(\"Average Speed\")\n",
        "    plt.tight_layout()\n",
        "    plt.show()\n",
        "else:\n",
        "    print(f\"Clustering skipped: Required columns not found in dataset: {features_for_clustering}\")"
      ],
      "metadata": {
        "colab": {
          "base_uri": "https://localhost:8080/"
        },
        "id": "ZcZ_16xpxXDx",
        "outputId": "470d95f1-b767-4a1b-c6a6-2f73c9085189"
      },
      "execution_count": 36,
      "outputs": [
        {
          "output_type": "stream",
          "name": "stdout",
          "text": [
            "Clustering skipped: Required columns not found in dataset: ['avg_speed']\n"
          ]
        }
      ]
    }
  ]
}